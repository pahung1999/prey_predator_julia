{
 "cells": [
  {
   "cell_type": "code",
   "execution_count": 5,
   "metadata": {},
   "outputs": [
    {
     "data": {
      "image/png": "[encoded data removed]",
      "text/html": [
       "<img src=\"data:image/png;base64,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\">"
      ],
      "text/plain": [
       "50×50 Array{RGB{N0f8},2} with eltype RGB{N0f8}:\n",
       " RGB{N0f8}(0.0,1.0,0.2)    …  RGB{N0f8}(0.0,1.0,0.2)\n",
       " RGB{N0f8}(0.0,1.0,0.2)       RGB{N0f8}(0.0,1.0,0.2)\n",
       " RGB{N0f8}(0.0,1.0,0.2)       RGB{N0f8}(0.0,1.0,0.2)\n",
       " RGB{N0f8}(0.0,1.0,0.208)     RGB{N0f8}(0.0,1.0,0.208)\n",
       " RGB{N0f8}(0.0,1.0,0.098)     RGB{N0f8}(0.0,1.0,0.098)\n",
       " RGB{N0f8}(0.0,1.0,0.208)  …  RGB{N0f8}(0.0,1.0,0.208)\n",
       " RGB{N0f8}(0.0,1.0,0.2)       RGB{N0f8}(0.0,1.0,0.2)\n",
       " RGB{N0f8}(0.0,1.0,0.2)       RGB{N0f8}(0.0,1.0,0.2)\n",
       " RGB{N0f8}(0.0,1.0,0.208)     RGB{N0f8}(0.0,1.0,0.208)\n",
       " RGB{N0f8}(0.0,1.0,0.098)     RGB{N0f8}(0.0,1.0,0.098)\n",
       " ⋮                         ⋱  \n",
       " RGB{N0f8}(0.0,1.0,0.2)       RGB{N0f8}(0.0,1.0,0.2)\n",
       " RGB{N0f8}(0.0,1.0,0.2)       RGB{N0f8}(0.0,1.0,0.2)\n",
       " RGB{N0f8}(0.0,1.0,0.208)     RGB{N0f8}(0.0,1.0,0.208)\n",
       " RGB{N0f8}(0.0,1.0,0.098)     RGB{N0f8}(0.0,1.0,0.098)\n",
       " RGB{N0f8}(0.0,1.0,0.208)  …  RGB{N0f8}(0.0,1.0,0.208)\n",
       " RGB{N0f8}(0.0,1.0,0.2)       RGB{N0f8}(0.0,1.0,0.2)\n",
       " RGB{N0f8}(0.0,1.0,0.2)       RGB{N0f8}(0.0,1.0,0.2)\n",
       " RGB{N0f8}(0.0,1.0,0.2)       RGB{N0f8}(0.0,1.0,0.2)\n",
       " RGB{N0f8}(0.0,1.0,0.2)       RGB{N0f8}(0.0,1.0,0.2)"
      ]
     },
     "metadata": {},
     "output_type": "display_data"
    }
   ],
   "source": [
    "using Images\n",
    "using DataFrames\n",
    "\n",
    "img = load(\"./map/map_310.png\")\n",
    "# img = load(\"./map/map_001.png\")"
   ]
  },
  {
   "cell_type": "code",
   "execution_count": 10,
   "metadata": {},
   "outputs": [
    {
     "data": {
      "text/plain": [
       "50×50 Matrix{Float16}:\n",
       " 0.0  0.0  0.0  0.0  0.0  0.0  0.0  0.0  …  0.0  0.0  0.0  0.0  0.0  0.0  0.0\n",
       " 0.0  0.0  0.0  0.0  0.0  0.0  0.0  0.0     0.0  0.0  0.0  0.0  0.0  0.0  0.0\n",
       " 0.0  0.0  0.0  0.0  0.0  0.0  1.0  1.0     1.0  0.0  0.0  0.0  0.0  0.0  0.0\n",
       " 0.0  0.0  0.0  0.0  0.0  1.0  1.0  1.0     1.0  1.0  0.0  0.0  0.0  0.0  0.0\n",
       " 0.0  0.0  0.0  0.0  1.0  1.0  1.0  1.0     1.0  1.0  1.0  0.0  0.0  0.0  0.0\n",
       " 0.0  0.0  0.0  1.0  1.0  1.0  1.0  1.0  …  1.0  1.0  1.0  1.0  0.0  0.0  0.0\n",
       " 0.0  0.0  0.0  1.0  1.0  1.0  1.0  1.0     1.0  1.0  1.0  1.0  0.0  0.0  0.0\n",
       " 0.0  0.0  0.0  1.0  1.0  1.0  1.0  1.0     1.0  1.0  1.0  1.0  0.0  0.0  0.0\n",
       " 0.0  0.0  0.0  1.0  1.0  1.0  1.0  1.0     1.0  1.0  1.0  1.0  0.0  0.0  0.0\n",
       " 0.0  0.0  0.0  1.0  1.0  1.0  1.0  1.0     1.0  1.0  1.0  1.0  0.0  0.0  0.0\n",
       " ⋮                        ⋮              ⋱            ⋮                   \n",
       " 0.0  0.0  0.0  1.0  1.0  1.0  1.0  1.0     1.0  1.0  1.0  1.0  0.0  0.0  0.0\n",
       " 0.0  0.0  0.0  1.0  1.0  1.0  1.0  1.0     1.0  1.0  1.0  1.0  0.0  0.0  0.0\n",
       " 0.0  0.0  0.0  1.0  1.0  1.0  1.0  1.0     1.0  1.0  1.0  1.0  0.0  0.0  0.0\n",
       " 0.0  0.0  0.0  1.0  1.0  1.0  1.0  1.0     1.0  1.0  1.0  1.0  0.0  0.0  0.0\n",
       " 0.0  0.0  0.0  0.0  1.0  1.0  1.0  1.0  …  1.0  1.0  1.0  0.0  0.0  0.0  0.0\n",
       " 0.0  0.0  0.0  0.0  0.0  1.0  1.0  1.0     1.0  1.0  0.0  0.0  0.0  0.0  0.0\n",
       " 0.0  0.0  0.0  0.0  0.0  0.0  1.0  1.0     1.0  0.0  0.0  0.0  0.0  0.0  0.0\n",
       " 0.0  0.0  0.0  0.0  0.0  0.0  0.0  0.0     0.0  0.0  0.0  0.0  0.0  0.0  0.0\n",
       " 0.0  0.0  0.0  0.0  0.0  0.0  0.0  0.0     0.0  0.0  0.0  0.0  0.0  0.0  0.0"
      ]
     },
     "metadata": {},
     "output_type": "display_data"
    }
   ],
   "source": [
    "map=\"./map/ver02/center_80.PNG\"\n",
    "img = load(map)\n",
    "img_gray=Gray.(1 .- red.(img))\n",
    "mat = convert(Array{Float16}, img_gray)\n",
    "mask = img_gray .> 0\n",
    "mat_mask = convert(Array{Float16}, img_gray)"
   ]
  },
  {
   "cell_type": "code",
   "execution_count": 82,
   "metadata": {},
   "outputs": [
    {
     "data": {
      "text/plain": [
       "50×50 Matrix{Float16}:\n",
       " 0.5527  0.5527  0.2915  0.2915  0.2915  …  0.2915  0.2915  0.2915  0.2915\n",
       " 0.2915  0.5527  0.2915  0.2915  0.2915     0.2915  0.2915  0.2915  0.2915\n",
       " 0.2915  0.2915  0.2915  0.2915  0.2915     0.2915  0.2915  0.2915  0.2915\n",
       " 0.552   0.2915  0.2915  0.2915  0.567      0.2915  0.2915  0.2915  0.5044\n",
       " 0.5693  0.2915  0.2915  0.2915  0.5854     0.2915  0.2915  0.2915  0.2915\n",
       " 0.552   0.552   0.2915  0.2915  1.0     …  0.2915  0.2915  0.2915  0.5044\n",
       " 0.5527  0.5527  0.2915  1.0     1.0        0.5044  0.2915  0.2915  0.5044\n",
       " 0.5527  0.5527  1.0     1.0     1.0        0.5044  0.2915  0.2915  0.2915\n",
       " 0.552   1.0     1.0     0.0     0.0        0.5044  0.5044  0.2915  0.2915\n",
       " 1.0     1.0     0.0     0.5854  0.0        0.3726  0.3726  0.2915  0.2915\n",
       " ⋮                                       ⋱                          \n",
       " 1.0     0.5854  0.0     0.0     0.0        0.0     1.0     0.5527  0.5527\n",
       " 1.0     0.5527  0.5854  0.0     0.0        1.0     1.0     0.5527  0.5527\n",
       " 1.0     0.552   0.5674  0.0     0.0        1.0     1.0     0.552   0.552\n",
       " 1.0     0.5044  0.5044  0.0     0.0        1.0     0.5693  0.5693  0.5693\n",
       " 1.0     0.5044  0.5044  0.5854  0.0     …  1.0     0.552   0.552   0.552\n",
       " 1.0     0.5527  0.5044  0.5044  0.5854     0.5527  0.5527  0.5527  0.5044\n",
       " 1.0     1.0     0.5044  0.5044  0.5044     0.5527  0.5044  0.5044  0.5044\n",
       " 1.0     1.0     0.5044  0.5044  0.5044     0.5044  0.5044  0.5044  0.5044\n",
       " 1.0     1.0     1.0     1.0     1.0        0.5527  0.5044  0.5044  0.5044"
      ]
     },
     "metadata": {},
     "output_type": "display_data"
    }
   ],
   "source": [
    "map=\"./map/ver04/grow_diff_01.png\"\n",
    "# map=\"./temp/test1.png\"\n",
    "\n",
    "image = load(map)\n",
    "w, h = size(image)\n",
    "# Extract the R, G, B matrix\n",
    "r_matrix = red.(image)\n",
    "g_matrix = green.(image)\n",
    "b_matrix = blue.(image)\n",
    "\n",
    "matrix = fill(Float16(1.0), w, h)\n",
    "\n",
    "for i in 1:w\n",
    "    for j in 1:h\n",
    "        # Đoạn code bạn muốn thực hiện cho từng cặp giá trị i và j\n",
    "        if r_matrix[i, j] == 1.0 &&  g_matrix[i, j] == 1.0 &&  b_matrix[i, j] == 1.0\n",
    "            matrix[i, j] = 0.0\n",
    "        else\n",
    "            luminance = 0.299 * r_matrix[i, j] + 0.587 * g_matrix[i, j] + 0.114 * b_matrix[i, j]\n",
    "            matrix[i, j] = 1 - luminance\n",
    "        end\n",
    "    end\n",
    "end\n",
    "# Tìm giá trị lớn nhất trong ma trận\n",
    "max_value = maximum(matrix)\n",
    "\n",
    "# Chia từng giá trị trong ma trận cho giá trị lớn nhất\n",
    "normalized_matrix = matrix / max_value\n",
    "normalized_matrix"
   ]
  },
  {
   "cell_type": "code",
   "execution_count": 100,
   "metadata": {},
   "outputs": [
    {
     "data": {
      "text/plain": [
       "\"0.15_0.42\""
      ]
     },
     "metadata": {},
     "output_type": "display_data"
    }
   ],
   "source": [
    "\n",
    "tiger_catch = rand(0:0.03:0.9)\n",
    "leopard_catch = rand(0:0.03:0.9)\n",
    "\n",
    "string(tiger_catch, \"_\", leopard_catch)"
   ]
  },
  {
   "cell_type": "code",
   "execution_count": 89,
   "metadata": {},
   "outputs": [
    {
     "data": {
      "text/plain": [
       "0.51"
      ]
     },
     "metadata": {},
     "output_type": "display_data"
    }
   ],
   "source": [
    "rand(0:0.03:0.9)"
   ]
  },
  {
   "cell_type": "code",
   "execution_count": 101,
   "metadata": {},
   "outputs": [],
   "source": []
  },
  {
   "cell_type": "code",
   "execution_count": 16,
   "metadata": {},
   "outputs": [
    {
     "name": "stdout",
     "output_type": "stream",
     "text": [
      "Tổng số pixel có màu xanh là 1750\n"
     ]
    }
   ],
   "source": [
    "green_count = 0\n",
    "\n",
    "for y = 1:height\n",
    "    for x = 1:width\n",
    "        if img[y, x] != RGB(1, 1, 1)\n",
    "            green_count += 1\n",
    "        end\n",
    "    end\n",
    "end\n",
    "\n",
    "println(\"Tổng số pixel có màu xanh là $green_count\")\n"
   ]
  },
  {
   "cell_type": "code",
   "execution_count": 19,
   "metadata": {},
   "outputs": [
    {
     "data": {
      "text/plain": [
       "get_first_food_energy (generic function with 1 method)"
      ]
     },
     "metadata": {},
     "output_type": "display_data"
    }
   ],
   "source": [
    "function get_first_food_energy(map_path)\n",
    "    img = load(map_path)\n",
    "    height, width = size(img)\n",
    "    green_count = 0.0\n",
    "\n",
    "    for y = 1:height\n",
    "        for x = 1:width\n",
    "            if img[y, x] != RGB(1, 1, 1)\n",
    "                green_count += 1\n",
    "            end\n",
    "        end\n",
    "    end\n",
    "    return green_count\n",
    "end"
   ]
  },
  {
   "cell_type": "code",
   "execution_count": 20,
   "metadata": {},
   "outputs": [
    {
     "data": {
      "text/html": [
       "<div><div style = \"float: left;\"><span>1×7 DataFrame</span></div><div style = \"clear: both;\"></div></div><div class = \"data-frame\" style = \"overflow-x: scroll;\"><table class = \"data-frame\" style = \"margin-bottom: 6px;\"><thead><tr class = \"header\"><th class = \"rowNumber\" style = \"font-weight: bold; text-align: right;\">Row</th><th style = \"text-align: left;\">food_energy</th><th style = \"text-align: left;\">count_boar</th><th style = \"text-align: left;\">count_tiger</th><th style = \"text-align: left;\">count_leopard</th><th style = \"text-align: left;\">born_leopard</th><th style = \"text-align: left;\">born_tiger</th><th style = \"text-align: left;\">born_boar</th></tr><tr class = \"subheader headerLastRow\"><th class = \"rowNumber\" style = \"font-weight: bold; text-align: right;\"></th><th title = \"Float64\" style = \"text-align: left;\">Float64</th><th title = \"Int64\" style = \"text-align: left;\">Int64</th><th title = \"Int64\" style = \"text-align: left;\">Int64</th><th title = \"Int64\" style = \"text-align: left;\">Int64</th><th title = \"Int64\" style = \"text-align: left;\">Int64</th><th title = \"Int64\" style = \"text-align: left;\">Int64</th><th title = \"Int64\" style = \"text-align: left;\">Int64</th></tr></thead><tbody><tr><td class = \"rowNumber\" style = \"font-weight: bold; text-align: right;\">1</td><td style = \"text-align: right;\">1750.0</td><td style = \"text-align: right;\">500</td><td style = \"text-align: right;\">25</td><td style = \"text-align: right;\">25</td><td style = \"text-align: right;\">0</td><td style = \"text-align: right;\">0</td><td style = \"text-align: right;\">0</td></tr></tbody></table></div>"
      ],
      "text/latex": [
       "\\begin{tabular}{r|ccccccc}\n",
       "\t& food\\_energy & count\\_boar & count\\_tiger & count\\_leopard & born\\_leopard & born\\_tiger & born\\_boar\\\\\n",
       "\t\\hline\n",
       "\t& Float64 & Int64 & Int64 & Int64 & Int64 & Int64 & Int64\\\\\n",
       "\t\\hline\n",
       "\t1 & 1750.0 & 500 & 25 & 25 & 0 & 0 & 0 \\\\\n",
       "\\end{tabular}\n"
      ],
      "text/plain": [
       "\u001b[1m1×7 DataFrame\u001b[0m\n",
       "\u001b[1m Row \u001b[0m│\u001b[1m food_energy \u001b[0m\u001b[1m count_boar \u001b[0m\u001b[1m count_tiger \u001b[0m\u001b[1m count_leopard \u001b[0m\u001b[1m born_leopard \u001b[0m\u001b[1m born\u001b[0m ⋯\n",
       "     │\u001b[90m Float64     \u001b[0m\u001b[90m Int64      \u001b[0m\u001b[90m Int64       \u001b[0m\u001b[90m Int64         \u001b[0m\u001b[90m Int64        \u001b[0m\u001b[90m Int6\u001b[0m ⋯\n",
       "─────┼──────────────────────────────────────────────────────────────────────────\n",
       "   1 │      1750.0         500           25             25             0       ⋯\n",
       "\u001b[36m                                                               2 columns omitted\u001b[0m"
      ]
     },
     "metadata": {},
     "output_type": "display_data"
    }
   ],
   "source": [
    "map_path=\"./map/map_310.png\"\n",
    "df = DataFrame(food_energy=[get_first_food_energy(map_path)],\n",
    "count_boar=[500], count_tiger=[25], count_leopard=[25],\n",
    "born_leopard=[0],born_tiger=[0],born_boar=[0],\n",
    ")\n"
   ]
  },
  {
   "cell_type": "code",
   "execution_count": null,
   "metadata": {},
   "outputs": [],
   "source": [
    "using FileIO\n",
    "using Path"
   ]
  },
  {
   "cell_type": "code",
   "execution_count": 3,
   "metadata": {},
   "outputs": [
    {
     "name": "stdout",
     "output_type": "stream",
     "text": [
      "data/map_ver1/coord_60\\hello.csv\n",
      "data/map_ver1/coord_65\\hello.csv\n",
      "data/map_ver1/coord_70\\hello.csv\n",
      "data/map_ver1/coord_75\\hello.csv\n",
      "data/map_ver1/coord_80\\hello.csv\n",
      "data/map_ver1/coord_85\\hello.csv\n",
      "data/map_ver1/coord_90\\hello.csv\n",
      "data/map_ver1/coord_95\\hello.csv\n",
      "data/map_ver1/edge_60\\hello.csv\n",
      "data/map_ver1/edge_65\\hello.csv\n",
      "data/map_ver1/edge_70\\hello.csv\n",
      "data/map_ver1/edge_75\\hello.csv\n",
      "data/map_ver1/edge_80\\hello.csv\n",
      "data/map_ver1/edge_85\\hello.csv\n",
      "data/map_ver1/edge_90\\hello.csv\n",
      "data/map_ver1/edge_95\\hello.csv\n",
      "data/map_ver1/rand_60\\hello.csv\n",
      "data/map_ver1/rand_65\\hello.csv\n",
      "data/map_ver1/rand_70\\hello.csv\n",
      "data/map_ver1/rand_75\\hello.csv\n",
      "data/map_ver1/rand_80\\hello.csv\n",
      "data/map_ver1/rand_85\\hello.csv\n",
      "data/map_ver1/rand_90\\hello.csv\n",
      "data/map_ver1/rand_95\\hello.csv\n"
     ]
    }
   ],
   "source": [
    "\n",
    "\n",
    "map_folder = \"./map/ver01/\"\n",
    "output_folder = \"data/map_ver1/\"\n",
    "\n",
    "# Lấy danh sách tất cả các file trong thư mục map_folder\n",
    "files = readdir(map_folder)\n",
    "\n",
    "# Lặp qua từng file\n",
    "for file in files\n",
    "    # Lấy tên file và bỏ extension\n",
    "    file_name = splitext(file)[1]\n",
    "    \n",
    "    # Tạo đường dẫn thư mục output\n",
    "    output_path = joinpath(output_folder, file_name)\n",
    "    \n",
    "    # Kiểm tra nếu thư mục chưa tồn tại thì tạo mới\n",
    "    if !isdir(output_path)\n",
    "        mkpath(output_path)\n",
    "        println(joinpath(output_folder, file_name, \"hello.csv\"))\n",
    "    end\n",
    "end\n"
   ]
  },
  {
   "cell_type": "code",
   "execution_count": 108,
   "metadata": {},
   "outputs": [
    {
     "data": {
      "text/plain": [
       "75"
      ]
     },
     "metadata": {},
     "output_type": "display_data"
    }
   ],
   "source": [
    "Int(0.75*100)"
   ]
  },
  {
   "cell_type": "code",
   "execution_count": 109,
   "metadata": {},
   "outputs": [
    {
     "data": {
      "text/plain": [
       "0.01"
      ]
     },
     "metadata": {},
     "output_type": "display_data"
    }
   ],
   "source": [
    "const DEFAULT_MAX_ENERGY= Dict(\t\t   :boar => 1.0,     :tiger => 1.0,      :leopard => 1.0) \n",
    "const DEFAULT_ENERGY_TRANSFERT = Dict( :boar => 0.3,    :tiger => 0.5,      :leopard => 0.2)\n",
    "const DEFAULT_ENERGY_CONSUME = Dict(   :boar => 0.018,   :tiger => 0.03,    :leopard => 0.012)\n",
    "const DEFAULT_REPRODUCE_PROBA= Dict(   :boar => 0.0036,    :tiger => 0.0015,    :leopard => 0.0017)\n",
    "const MAX_OFFSPRING =      Dict(       :boar => 12,       :tiger => 6  ,      :leopard => 4)\n",
    "const DEFAULT_REPRODUCE_ENERGY= Dict(  :boar => 0.6,     :tiger => 0.6,      :leopard => 0.6)\n",
    "const DEFAULT_CATCH_PROB = Dict(         \t \t \t     :tiger => 0.6,     :leopard => 0.35)\n",
    "const DEFAULT_LIFESPAN = Dict(  \t   :boar =>(12*365), :tiger => (15*365), :leopard => (14*365))\n",
    "const DEFAULT_GROW_SPEED = 0.01"
   ]
  },
  {
   "cell_type": "code",
   "execution_count": 113,
   "metadata": {},
   "outputs": [
    {
     "data": {
      "text/plain": [
       "Dict{Symbol, Any} with 10 entries:\n",
       "  :max_energy       => Dict(:tiger=>1.0, :leopard=>1.0, :boar=>1.0)\n",
       "  :max_food         => 1\n",
       "  :proba_reproduce  => Dict(:tiger=>0.0015, :leopard=>0.0017, :boar=>0.0036)\n",
       "  :max_offsprings   => Dict(:tiger=>6, :leopard=>4, :boar=>12)\n",
       "  :grow_speed       => 0.01\n",
       "  :lifespan         => Dict(:tiger=>5475, :leopard=>5110, :boar=>4380)\n",
       "  :catch_prob       => Dict(:tiger=>0.6, :leopard=>0.35)\n",
       "  :energy_transfert => Dict(:tiger=>0.5, :leopard=>0.2, :boar=>0.3)\n",
       "  :energy_consum    => Dict(:tiger=>0.03, :leopard=>0.012, :boar=>0.018)\n",
       "  :energy_reproduce => Dict(:tiger=>0.6, :leopard=>0.6, :boar=>0.6)"
      ]
     },
     "metadata": {},
     "output_type": "display_data"
    }
   ],
   "source": [
    "parameter_dict = Dict(\n",
    "    :energy_consum => DEFAULT_ENERGY_CONSUME,\n",
    "    :max_energy => DEFAULT_MAX_ENERGY,\n",
    "    :lifespan => DEFAULT_LIFESPAN,\n",
    "    :proba_reproduce => DEFAULT_REPRODUCE_PROBA,\n",
    "    :max_offsprings => MAX_OFFSPRING,\n",
    "    :energy_reproduce => DEFAULT_REPRODUCE_ENERGY,\n",
    "    :grow_speed => DEFAULT_GROW_SPEED,\n",
    "    :energy_transfert => DEFAULT_ENERGY_TRANSFERT,\n",
    "    :catch_prob => DEFAULT_CATCH_PROB,\n",
    ")\n"
   ]
  },
  {
   "cell_type": "code",
   "execution_count": 148,
   "metadata": {},
   "outputs": [
    {
     "data": {
      "text/plain": [
       "3-element Vector{Dict{String, Dict{Symbol, Dict{Symbol, Float64}}}}:\n",
       " Dict(\"energy_consum_boar_0.036\" => Dict(:energy_consum => Dict(:tiger => 0.03, :leopard => 0.012, :boar => 0.036)))\n",
       " Dict(\"energy_consum_tiger_0.06\" => Dict(:energy_consum => Dict(:tiger => 0.06, :leopard => 0.012, :boar => 0.018)))\n",
       " Dict(\"energy_consum_leopard_0.024\" => Dict(:energy_consum => Dict(:tiger => 0.03, :leopard => 0.024, :boar => 0.018)))"
      ]
     },
     "metadata": {},
     "output_type": "display_data"
    }
   ],
   "source": [
    "new_para_list = [\n",
    "    Dict(\"energy_consum_boar_0.036\" => Dict(:energy_consum  => Dict(   :boar => 0.036,   :tiger => 0.03,    :leopard => 0.012))),\n",
    "    Dict(\"energy_consum_tiger_0.06\" => Dict(:energy_consum  => Dict(   :boar => 0.018,   :tiger => 0.06,    :leopard => 0.012))),\n",
    "    \n",
    "    Dict(\"energy_consum_leopard_0.024\" => Dict(:energy_consum  => Dict(   :boar => 0.018,   :tiger => 0.03,    :leopard => 0.024))),\n",
    "]"
   ]
  },
  {
   "cell_type": "code",
   "execution_count": 147,
   "metadata": {},
   "outputs": [
    {
     "name": "stdout",
     "output_type": "stream",
     "text": [
      "energy_consum\n",
      "energy_consum\n",
      "energy_consum\n"
     ]
    }
   ],
   "source": [
    "for new_para in new_para_list\n",
    "    name_para = collect(keys(new_para))[1]\n",
    "\n",
    "    new_value_name = collect(keys(new_para[name_para]))[1]\n",
    "    \n",
    "    parameter_dict[new_value_name] = new_para[name_para][new_value_name]\n",
    "    print(new_value_name, \"\\n\")\n",
    "end"
   ]
  },
  {
   "cell_type": "code",
   "execution_count": 135,
   "metadata": {},
   "outputs": [
    {
     "data": {
      "text/plain": [
       "KeySet for a Dict{String, Dict{Symbol, Dict{Symbol, Float64}}} with 1 entry. Keys:\n",
       "  \"energy_consum_boar_0.036\""
      ]
     },
     "metadata": {},
     "output_type": "display_data"
    }
   ],
   "source": [
    "keys(new_para_list[1])"
   ]
  },
  {
   "cell_type": "code",
   "execution_count": 149,
   "metadata": {},
   "outputs": [
    {
     "data": {
      "text/plain": [
       "0.0072"
      ]
     },
     "metadata": {},
     "output_type": "display_data"
    }
   ],
   "source": [
    "0.0036*2"
   ]
  },
  {
   "cell_type": "code",
   "execution_count": null,
   "metadata": {},
   "outputs": [],
   "source": []
  }
 ],
 "metadata": {
  "kernelspec": {
   "display_name": "Julia 1.8.5",
   "language": "julia",
   "name": "julia-1.8"
  },
  "language_info": {
   "file_extension": ".jl",
   "mimetype": "application/julia",
   "name": "julia",
   "version": "1.8.5"
  },
  "orig_nbformat": 4
 },
 "nbformat": 4,
 "nbformat_minor": 2
}
